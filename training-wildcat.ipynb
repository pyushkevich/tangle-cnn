{
 "cells": [
  {
   "cell_type": "code",
   "execution_count": 58,
   "metadata": {},
   "outputs": [
    {
     "name": "stdout",
     "output_type": "stream",
     "text": [
      "PyTorch Version:  1.0.0\n",
      "Torchvision Version:  0.2.1\n",
      "CUDA status:  True\n"
     ]
    }
   ],
   "source": [
    "from __future__ import print_function\n",
    "from __future__ import division\n",
    "import torch\n",
    "import torch.nn as nn\n",
    "import torch.optim as optim\n",
    "import numpy as np\n",
    "import torchvision\n",
    "from torchvision import datasets, models, transforms\n",
    "import matplotlib.pyplot as plt\n",
    "import time\n",
    "import os\n",
    "import copy\n",
    "import sys\n",
    "print(\"PyTorch Version: \",torch.__version__)\n",
    "print(\"Torchvision Version: \",torchvision.__version__)\n",
    "print(\"CUDA status: \", torch.cuda.is_available())"
   ]
  },
  {
   "cell_type": "code",
   "execution_count": 59,
   "metadata": {},
   "outputs": [],
   "source": [
    "# Import wildcat\n",
    "sys.path.append(\"wildcat.pytorch\")\n",
    "import wildcat.models"
   ]
  },
  {
   "cell_type": "code",
   "execution_count": 64,
   "metadata": {},
   "outputs": [],
   "source": [
    "# Top level data directory. Here we assume the format of the directory conforms\n",
    "#   to the ImageFolder structure\n",
    "data_dir = \"/home/pyushkevich/data/twoway\"\n",
    "\n",
    "# Number of classes in the dataset\n",
    "num_classes = 2\n",
    "\n",
    "# Batch size for training (change depending on how much memory you have)\n",
    "batch_size = 32\n",
    "\n",
    "# Number of epochs to train for\n",
    "num_epochs = 30\n",
    "\n",
    "# Input image size\n",
    "input_size = 224"
   ]
  },
  {
   "cell_type": "markdown",
   "metadata": {},
   "source": [
    "## Initialize wildcat model"
   ]
  },
  {
   "cell_type": "code",
   "execution_count": 65,
   "metadata": {},
   "outputs": [
    {
     "name": "stdout",
     "output_type": "stream",
     "text": [
      "classifier Sequential(\n",
      "  (0): Conv2d(2048, 8, kernel_size=(1, 1), stride=(1, 1))\n",
      ")\n",
      "spatial pooling Sequential(\n",
      "  (class_wise): ClassWisePool (num_maps=4)\n",
      "  (spatial): WildcatPool2d (kmax=1, kmin=1, alpha=0.7)\n",
      ")\n"
     ]
    }
   ],
   "source": [
    "# This code is taken from the wildcat demo for Pascal VOS\n",
    "base_model = models.resnet50(False)\n",
    "base_model.fc = nn.Linear(base_model.fc.in_features, num_classes)\n",
    "base_model.load_state_dict(torch.load('my_resnet_50_200epoch.dat'))\n",
    "\n",
    "num_maps = 4;\n",
    "pooling = nn.Sequential()\n",
    "pooling.add_module('class_wise', wildcat.models.ClassWisePool(num_maps))\n",
    "pooling.add_module('spatial', wildcat.models.WildcatPool2d(1, None, 0.7))\n",
    "model = wildcat.models.ResNetWSL(base_model, num_classes * num_maps, pooling=pooling)\n",
    "\n",
    "print('classifier', model.classifier)\n",
    "print('spatial pooling', model.spatial_pooling)"
   ]
  },
  {
   "cell_type": "code",
   "execution_count": 66,
   "metadata": {},
   "outputs": [],
   "source": [
    "# Or use their initialization method\n",
    "model=wildcat.models.resnet50_wildcat(2, pretrained=True, kmax=0.2, alpha=0.7, num_maps=4)"
   ]
  },
  {
   "cell_type": "code",
   "execution_count": 67,
   "metadata": {},
   "outputs": [],
   "source": [
    "# Loss and optimizer\n",
    "criterion = nn.MultiLabelSoftMarginLoss()\n",
    "optimizer = torch.optim.SGD(model.get_config_optim(0.01, 0.1), lr=0.01, momentum=0.9, weight_decay=1e-4)\n",
    "\n",
    "# Transforms for training and validation\n",
    "data_transforms = {\n",
    "    'train': transforms.Compose([\n",
    "        transforms.RandomResizedCrop(input_size),\n",
    "        transforms.RandomRotation(45),\n",
    "        transforms.RandomVerticalFlip(),\n",
    "        transforms.RandomHorizontalFlip(),\n",
    "        transforms.ToTensor(),\n",
    "        transforms.Normalize([0.485, 0.456, 0.406], [0.229, 0.224, 0.225])\n",
    "    ]),\n",
    "    'val': transforms.Compose([\n",
    "        transforms.Resize(input_size),\n",
    "        transforms.CenterCrop(input_size),\n",
    "        transforms.ToTensor(),\n",
    "        transforms.Normalize([0.485, 0.456, 0.406], [0.229, 0.224, 0.225])\n",
    "    ]),\n",
    "}\n",
    "\n",
    "# Training and validation dataloaders\n",
    "image_datasets = {x: datasets.ImageFolder(os.path.join(data_dir, x), data_transforms[x]) for x in ['train', 'val']}\n",
    "dataloaders_dict = {x: torch.utils.data.DataLoader(image_datasets[x], batch_size=batch_size, shuffle=True, num_workers=4) for x in ['train', 'val']}"
   ]
  },
  {
   "cell_type": "code",
   "execution_count": 68,
   "metadata": {},
   "outputs": [
    {
     "name": "stdout",
     "output_type": "stream",
     "text": [
      "Device:  cuda:0\n"
     ]
    }
   ],
   "source": [
    "# Map model and criterior to device\n",
    "# Detect if we have a GPU available\n",
    "device = torch.device(\"cuda:0\" if torch.cuda.is_available() else \"cpu\")\n",
    "print(\"Device: \", device)\n",
    "\n",
    "model = model.to(device)\n",
    "criterion = criterion.to(device)"
   ]
  },
  {
   "cell_type": "code",
   "execution_count": 69,
   "metadata": {},
   "outputs": [],
   "source": [
    "# Standard training code\n",
    "def train_model(model, dataloaders, criterion, optimizer, num_epochs=25):\n",
    "    since = time.time()\n",
    "\n",
    "    val_acc_history = []\n",
    "\n",
    "    best_model_wts = copy.deepcopy(model.state_dict())\n",
    "    best_acc = 0.0\n",
    "\n",
    "    for epoch in range(num_epochs):\n",
    "        print('Epoch {}/{}'.format(epoch, num_epochs - 1))\n",
    "        print('-' * 10)\n",
    "\n",
    "        # Each epoch has a training and validation phase\n",
    "        for phase in ['train', 'val']:\n",
    "            if phase == 'train':\n",
    "                model.train()  # Set model to training mode\n",
    "            else:\n",
    "                model.eval()   # Set model to evaluate mode\n",
    "\n",
    "            running_loss = 0.0\n",
    "            running_corrects = 0\n",
    "\n",
    "            # Iterate over data.\n",
    "            for inputs, labels in dataloaders[phase]:\n",
    "                inputs = inputs.to(device)\n",
    "                labels = labels.to(device)\n",
    "                labels_one_hot = torch.zeros([labels.shape[0], 2])\n",
    "                labels_one_hot[:,0] = (labels==0)\n",
    "                labels_one_hot[:,1] = (labels==1)\n",
    "                labels_one_hot = labels_one_hot.to(device)\n",
    "\n",
    "                # zero the parameter gradients\n",
    "                optimizer.zero_grad()\n",
    "\n",
    "                # forward\n",
    "                # track history if only in train\n",
    "                with torch.set_grad_enabled(phase == 'train'):\n",
    "                    # Get model outputs and calculate loss\n",
    "                    # Special case for inception because in training it has an auxiliary output. In train\n",
    "                    #   mode we calculate the loss by summing the final output and the auxiliary output\n",
    "                    #   but in testing we only consider the final output.\n",
    "                    outputs = model(inputs)\n",
    "                    loss = criterion(outputs, labels_one_hot)\n",
    "\n",
    "                    _, preds = torch.max(outputs, 1)\n",
    "\n",
    "                    # backward + optimize only if in training phase\n",
    "                    if phase == 'train':\n",
    "                        loss.backward()\n",
    "                        optimizer.step()\n",
    "\n",
    "                # statistics\n",
    "                running_loss += loss.item() * inputs.size(0)\n",
    "                running_corrects += torch.sum(preds == labels.data)\n",
    "\n",
    "            epoch_loss = running_loss / len(dataloaders[phase].dataset)\n",
    "            epoch_acc = running_corrects.double() / len(dataloaders[phase].dataset)\n",
    "\n",
    "            print('{} Loss: {:.4f} Acc: {:.4f}'.format(phase, epoch_loss, epoch_acc))\n",
    "\n",
    "            # deep copy the model\n",
    "            if phase == 'val' and epoch_acc > best_acc:\n",
    "                best_acc = epoch_acc\n",
    "                best_model_wts = copy.deepcopy(model.state_dict())\n",
    "            if phase == 'val':\n",
    "                val_acc_history.append(epoch_acc)\n",
    "\n",
    "        print()\n",
    "\n",
    "    time_elapsed = time.time() - since\n",
    "    print('Training complete in {:.0f}m {:.0f}s'.format(time_elapsed // 60, time_elapsed % 60))\n",
    "    print('Best val Acc: {:4f}'.format(best_acc))\n",
    "\n",
    "    # load best model weights\n",
    "    model.load_state_dict(best_model_wts)\n",
    "    return model, val_acc_history"
   ]
  },
  {
   "cell_type": "code",
   "execution_count": 70,
   "metadata": {},
   "outputs": [
    {
     "name": "stdout",
     "output_type": "stream",
     "text": [
      "Epoch 0/29\n",
      "----------\n",
      "train Loss: 0.3637 Acc: 0.8564\n",
      "val Loss: 0.2562 Acc: 0.9049\n",
      "\n",
      "Epoch 1/29\n",
      "----------\n",
      "train Loss: 0.2355 Acc: 0.9156\n",
      "val Loss: 0.2443 Acc: 0.9262\n",
      "\n",
      "Epoch 2/29\n",
      "----------\n",
      "train Loss: 0.2276 Acc: 0.9150\n",
      "val Loss: 0.2394 Acc: 0.9393\n",
      "\n",
      "Epoch 3/29\n",
      "----------\n",
      "train Loss: 0.2307 Acc: 0.9172\n",
      "val Loss: 0.2710 Acc: 0.9344\n",
      "\n",
      "Epoch 4/29\n",
      "----------\n",
      "train Loss: 0.2009 Acc: 0.9265\n",
      "val Loss: 0.2195 Acc: 0.9475\n",
      "\n",
      "Epoch 5/29\n",
      "----------\n",
      "train Loss: 0.1799 Acc: 0.9348\n",
      "val Loss: 0.2127 Acc: 0.9525\n",
      "\n",
      "Epoch 6/29\n",
      "----------\n",
      "train Loss: 0.2047 Acc: 0.9161\n",
      "val Loss: 0.2980 Acc: 0.9393\n",
      "\n",
      "Epoch 7/29\n",
      "----------\n",
      "train Loss: 0.1811 Acc: 0.9364\n",
      "val Loss: 0.2309 Acc: 0.9525\n",
      "\n",
      "Epoch 8/29\n",
      "----------\n",
      "train Loss: 0.1792 Acc: 0.9315\n",
      "val Loss: 0.1932 Acc: 0.9607\n",
      "\n",
      "Epoch 9/29\n",
      "----------\n",
      "train Loss: 0.1836 Acc: 0.9293\n",
      "val Loss: 0.2363 Acc: 0.9410\n",
      "\n",
      "Epoch 10/29\n",
      "----------\n",
      "train Loss: 0.1745 Acc: 0.9309\n",
      "val Loss: 0.2343 Acc: 0.9377\n",
      "\n",
      "Epoch 11/29\n",
      "----------\n",
      "train Loss: 0.1546 Acc: 0.9386\n",
      "val Loss: 0.5567 Acc: 0.8967\n",
      "\n",
      "Epoch 12/29\n",
      "----------\n",
      "train Loss: 0.1679 Acc: 0.9348\n",
      "val Loss: 0.2141 Acc: 0.9475\n",
      "\n",
      "Epoch 13/29\n",
      "----------\n",
      "train Loss: 0.1738 Acc: 0.9375\n",
      "val Loss: 0.1954 Acc: 0.9557\n",
      "\n",
      "Epoch 14/29\n",
      "----------\n",
      "train Loss: 0.1720 Acc: 0.9276\n",
      "val Loss: 0.2000 Acc: 0.9426\n",
      "\n",
      "Epoch 15/29\n",
      "----------\n",
      "train Loss: 0.1295 Acc: 0.9496\n",
      "val Loss: 0.2193 Acc: 0.9525\n",
      "\n",
      "Epoch 16/29\n",
      "----------\n",
      "train Loss: 0.1589 Acc: 0.9397\n",
      "val Loss: 0.2403 Acc: 0.9344\n",
      "\n",
      "Epoch 17/29\n",
      "----------\n",
      "train Loss: 0.1423 Acc: 0.9496\n",
      "val Loss: 0.2430 Acc: 0.9410\n",
      "\n",
      "Epoch 18/29\n",
      "----------\n",
      "train Loss: 0.1473 Acc: 0.9435\n",
      "val Loss: 0.1887 Acc: 0.9607\n",
      "\n",
      "Epoch 19/29\n",
      "----------\n",
      "train Loss: 0.1458 Acc: 0.9430\n",
      "val Loss: 0.1871 Acc: 0.9623\n",
      "\n",
      "Epoch 20/29\n",
      "----------\n",
      "train Loss: 0.1350 Acc: 0.9485\n",
      "val Loss: 0.2017 Acc: 0.9508\n",
      "\n",
      "Epoch 21/29\n",
      "----------\n",
      "train Loss: 0.1591 Acc: 0.9468\n",
      "val Loss: 0.1545 Acc: 0.9426\n",
      "\n",
      "Epoch 22/29\n",
      "----------\n",
      "train Loss: 0.1599 Acc: 0.9397\n",
      "val Loss: 0.1350 Acc: 0.9639\n",
      "\n",
      "Epoch 23/29\n",
      "----------\n",
      "train Loss: 0.1437 Acc: 0.9479\n",
      "val Loss: 0.2996 Acc: 0.9311\n",
      "\n",
      "Epoch 24/29\n",
      "----------\n",
      "train Loss: 0.1461 Acc: 0.9370\n",
      "val Loss: 0.1959 Acc: 0.9557\n",
      "\n",
      "Epoch 25/29\n",
      "----------\n",
      "train Loss: 0.1239 Acc: 0.9479\n",
      "val Loss: 0.3153 Acc: 0.9295\n",
      "\n",
      "Epoch 26/29\n",
      "----------\n",
      "train Loss: 0.1445 Acc: 0.9441\n",
      "val Loss: 0.1719 Acc: 0.9475\n",
      "\n",
      "Epoch 27/29\n",
      "----------\n",
      "train Loss: 0.1130 Acc: 0.9512\n",
      "val Loss: 0.1713 Acc: 0.9557\n",
      "\n",
      "Epoch 28/29\n",
      "----------\n",
      "train Loss: 0.1186 Acc: 0.9556\n",
      "val Loss: 0.1884 Acc: 0.9328\n",
      "\n",
      "Epoch 29/29\n",
      "----------\n",
      "train Loss: 0.1315 Acc: 0.9490\n",
      "val Loss: 0.3059 Acc: 0.9148\n",
      "\n",
      "Training complete in 11m 35s\n",
      "Best val Acc: 0.963934\n"
     ]
    }
   ],
   "source": [
    "# Train and evaluate\n",
    "model_ft, hist = train_model(model, dataloaders_dict, criterion, optimizer, num_epochs=num_epochs)"
   ]
  },
  {
   "cell_type": "code",
   "execution_count": 72,
   "metadata": {},
   "outputs": [],
   "source": [
    "torch.save(model_ft.state_dict(),\"/home/pyushkevich/resnet/my_wildcat_50_30epoch_k02.dat\")"
   ]
  },
  {
   "cell_type": "code",
   "execution_count": 71,
   "metadata": {},
   "outputs": [
    {
     "data": {
      "text/plain": [
       "[<matplotlib.lines.Line2D at 0x7f7ac62b89b0>]"
      ]
     },
     "execution_count": 71,
     "metadata": {},
     "output_type": "execute_result"
    },
    {
     "data": {
      "image/png": "[encoded data removed]",
      "text/plain": [
       "<Figure size 432x288 with 1 Axes>"
      ]
     },
     "metadata": {
      "needs_background": "light"
     },
     "output_type": "display_data"
    }
   ],
   "source": [
    "plt.plot(hist)"
   ]
  },
  {
   "cell_type": "code",
   "execution_count": null,
   "metadata": {},
   "outputs": [],
   "source": []
  },
  {
   "cell_type": "code",
   "execution_count": null,
   "metadata": {},
   "outputs": [],
   "source": []
  }
 ],
 "metadata": {
  "kernelspec": {
   "display_name": "Python 3",
   "language": "python",
   "name": "python3"
  },
  "language_info": {
   "codemirror_mode": {
    "name": "ipython",
    "version": 3
   },
   "file_extension": ".py",
   "mimetype": "text/x-python",
   "name": "python",
   "nbconvert_exporter": "python",
   "pygments_lexer": "ipython3",
   "version": "3.7.2"
  }
 },
 "nbformat": 4,
 "nbformat_minor": 2
}
